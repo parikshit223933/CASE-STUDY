{
 "cells": [
  {
   "cell_type": "code",
   "execution_count": 6,
   "metadata": {},
   "outputs": [
    {
     "data": {
      "image/png": "[encoded data removed]",
      "text/plain": [
       "<Figure size 432x288 with 1 Axes>"
      ]
     },
     "metadata": {
      "needs_background": "light"
     },
     "output_type": "display_data"
    },
    {
     "name": "stdout",
     "output_type": "stream",
     "text": [
      "NCR 709\n",
      "Bangalore 635\n",
      "Mumbai 449\n"
     ]
    }
   ],
   "source": [
    "import numpy as np\n",
    "import matplotlib.pyplot as plt\n",
    "import csv\n",
    "with open('datasets/startup_funding.csv', encoding='utf8') as file_obj:\n",
    "    file_data=csv.DictReader(file_obj, skipinitialspace=True)\n",
    "    city=[]\n",
    "    for row in file_data:\n",
    "        city.append(row['CityLocation'])\n",
    "    np_city=np.array(city)\n",
    "    np_city=np_city[np_city != '']\n",
    "    \n",
    "    for i in range(len(np_city)):\n",
    "        if 'bangalore' in np_city[i]:\n",
    "            np_city[i]='Bangalore'\n",
    "        if np_city[i]=='Delhi':\n",
    "            np_city[i]='New Delhi'\n",
    "    \n",
    "    for i in range(len(np_city)) :\n",
    "        np_city[i]=np_city[i].split('/')[0].strip()\n",
    "    \n",
    "    dic=dict()\n",
    "    for i in np_city:\n",
    "        if i in dic.keys():\n",
    "            dic[i]+=1\n",
    "        else:\n",
    "            dic[i]=1\n",
    "    \n",
    "    xaxis=[]\n",
    "    yaxis=[]\n",
    "    count=0\n",
    "    for i in dic.keys():\n",
    "        if i=='Bangalore' or i=='Mumbai':\n",
    "            xaxis.append(i)\n",
    "            yaxis.append(dic[i])\n",
    "        elif i=='New Delhi' or i=='Noida' or i=='Gurgaon':\n",
    "            xaxis.append('NCR')\n",
    "            count+=dic[i]\n",
    "    yaxis.append(count)\n",
    "            \n",
    "            \n",
    "    np_xaxis=np.array(xaxis)\n",
    "    np_yaxis=np.array(yaxis)\n",
    "    \n",
    "    np_xaxis=np_xaxis[np.argsort(np_yaxis)]\n",
    "    np_yaxis=np.sort(np_yaxis)\n",
    "    \n",
    "    np_xaxis=np_xaxis[len(np_xaxis)-1:len(np_xaxis)-1-10:-1]\n",
    "    np_yaxis=np_yaxis[len(np_yaxis)-1:len(np_yaxis)-1-10:-1]\n",
    "\n",
    "    plt.bar(np_xaxis, np_yaxis)\n",
    "    plt.xlabel('Location----->', size=16)\n",
    "    plt.ylabel('no. of fundings----->', size=16)\n",
    "    plt.title('location versus no. of fundings', size=16)\n",
    "    plt.show()\n",
    "    \n",
    "    for i in range(len(np_xaxis)):\n",
    "        print(np_xaxis[i], np_yaxis[i])"
   ]
  }
 ],
 "metadata": {
  "kernelspec": {
   "display_name": "Python 3",
   "language": "python",
   "name": "python3"
  },
  "language_info": {
   "codemirror_mode": {
    "name": "ipython",
    "version": 3
   },
   "file_extension": ".py",
   "mimetype": "text/x-python",
   "name": "python",
   "nbconvert_exporter": "python",
   "pygments_lexer": "ipython3",
   "version": "3.7.3"
  }
 },
 "nbformat": 4,
 "nbformat_minor": 2
}
